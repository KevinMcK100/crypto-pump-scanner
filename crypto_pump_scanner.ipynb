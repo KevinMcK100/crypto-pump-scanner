{
 "cells": [
  {
   "cell_type": "code",
   "execution_count": null,
   "id": "b76dbadc-d3f3-40ff-9e34-cffd3ea65254",
   "metadata": {
    "tags": []
   },
   "outputs": [],
   "source": [
    "\"\"\"\n",
    "Run crypto pump scanner in Jupyter Lab\n",
    "\"\"\"\n",
    "import sys\n",
    "from kucoin_pump_scanner import KucoinPumpScanner\n",
    "\n",
    "\"\"\"USER CONFIGURABLE VALUE. Sets the timeframe to measure price changes over. Should be set to one of [1, 3, 5, 15, 30, 60]\"\"\"\n",
    "TIMEFRAME = 15\n",
    "\n",
    "def main():\n",
    "    \"\"\"\n",
    "    Initialise pump scanners for exchanges to monitor\n",
    "    \"\"\"\n",
    "    KucoinPumpScanner(timeframe=TIMEFRAME)\n",
    "\n",
    "\n",
    "if __name__ == \"__main__\":\n",
    "    sys.exit(main())"
   ]
  },
  {
   "cell_type": "code",
   "execution_count": null,
   "id": "fc5840b1-81b5-465a-893c-934931dae7db",
   "metadata": {},
   "outputs": [],
   "source": []
  }
 ],
 "metadata": {
  "kernelspec": {
   "display_name": "Python 3 (ipykernel)",
   "language": "python",
   "name": "python3"
  },
  "language_info": {
   "codemirror_mode": {
    "name": "ipython",
    "version": 3
   },
   "file_extension": ".py",
   "mimetype": "text/x-python",
   "name": "python",
   "nbconvert_exporter": "python",
   "pygments_lexer": "ipython3",
   "version": "3.9.10"
  }
 },
 "nbformat": 4,
 "nbformat_minor": 5
}
